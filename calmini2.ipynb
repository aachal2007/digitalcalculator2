{
 "cells": [
  {
   "cell_type": "code",
   "execution_count": 1,
   "id": "559e7ac3-4632-48bc-9873-181870b0af5f",
   "metadata": {},
   "outputs": [],
   "source": [
    "\n",
    "\n",
    "import tkinter as tk\n",
    "\n",
    "\n",
    "def press(num):\n",
    "    global expression\n",
    "    expression += str(num)\n",
    "    equation.set(expression)\n",
    "\n",
    "\n",
    "def equalpress():\n",
    "    try:\n",
    "        global expression\n",
    "        total = str(eval(expression))  \n",
    "        equation.set(total)\n",
    "        expression = total\n",
    "    except:\n",
    "        equation.set(\" error \")\n",
    "        expression = \"\"\n",
    "\n",
    "\n",
    "def clear():\n",
    "    global expression\n",
    "    expression = \"\"\n",
    "    equation.set(\"\")\n",
    "\n",
    "\n",
    "if __name__ == \"__main__\":\n",
    "    \n",
    "    gui = tk.Tk()\n",
    "    gui.configure(background=\"black\")\n",
    "    gui.title(\"Digital Calculator\")\n",
    "    gui.geometry(\"300x400\")\n",
    "\n",
    "    expression = \"\"\n",
    "    equation = tk.StringVar()\n",
    "\n",
    "    \n",
    "    entry_field = tk.Entry(gui, textvariable=equation, font=('Arial', 20, 'bold'), bd=10, insertwidth=2, bg=\"lightgray\", justify='right')\n",
    "    entry_field.grid(columnspan=4)\n",
    "\n",
    "    \n",
    "    buttons = [\n",
    "        ('7', 1, 0), ('8', 1, 1), ('9', 1, 2), ('/', 1, 3),\n",
    "        ('4', 2, 0), ('5', 2, 1), ('6', 2, 2), ('*', 2, 3),\n",
    "        ('1', 3, 0), ('2', 3, 1), ('3', 3, 2), ('-', 3, 3),\n",
    "        ('0', 4, 0), ('.', 4, 1), ('=', 4, 2), ('+', 4, 3)\n",
    "    ]\n",
    "\n",
    "    \n",
    "    for (text, row, col) in buttons:\n",
    "        if text == \"=\":\n",
    "            tk.Button(gui, text=text, fg=\"black\", bg=\"orange\", command=equalpress,\n",
    "                      height=2, width=7, font=('Arial', 14, 'bold')).grid(row=row, column=col)\n",
    "        else:\n",
    "            tk.Button(gui, text=text, fg=\"black\", bg=\"lightblue\", command=lambda t=text: press(t),\n",
    "                      height=2, width=7, font=('Arial', 14, 'bold')).grid(row=row, column=col)\n",
    "\n",
    "    \n",
    "    tk.Button(gui, text='C', fg=\"black\", bg=\"red\", command=clear,\n",
    "              height=2, width=32, font=('Arial', 14, 'bold')).grid(row=5, column=0, columnspan=4)\n",
    "\n",
    "    gui.mainloop()\n"
   ]
  },
  {
   "cell_type": "code",
   "execution_count": null,
   "id": "dc318877-70a3-4a54-b7df-91d179ab2a30",
   "metadata": {},
   "outputs": [],
   "source": []
  }
 ],
 "metadata": {
  "kernelspec": {
   "display_name": "Python 3 (ipykernel)",
   "language": "python",
   "name": "python3"
  },
  "language_info": {
   "codemirror_mode": {
    "name": "ipython",
    "version": 3
   },
   "file_extension": ".py",
   "mimetype": "text/x-python",
   "name": "python",
   "nbconvert_exporter": "python",
   "pygments_lexer": "ipython3",
   "version": "3.13.3"
  },
  "widgets": {
   "application/vnd.jupyter.widget-state+json": {
    "state": {},
    "version_major": 2,
    "version_minor": 0
   }
  }
 },
 "nbformat": 4,
 "nbformat_minor": 5
}
